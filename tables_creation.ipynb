{
 "cells": [
  {
   "cell_type": "markdown",
   "metadata": {},
   "source": [
    "# 1. Creating database and tables"
   ]
  },
  {
   "cell_type": "code",
   "execution_count": 1,
   "metadata": {},
   "outputs": [],
   "source": [
    "# Connecting to the database\n",
    "\n",
    "# importing 'mysql.connector' as mysql for convenience\n",
    "import mysql.connector as mysql\n",
    "\n",
    "# connecting to the database using 'connect()' method\n",
    "# it takes 3 required parameters 'host', 'user', 'passwd'\n",
    "db = mysql.connect(\n",
    "    host = \"localhost\",\n",
    "    user = \"root\",\n",
    "    passwd = \"zxcvbnmzxcvbnm\"\n",
    ")\n",
    "\n",
    "# creating an instance of 'cursor' class which is used to execute the 'SQL' statements in 'Python'\n",
    "cursor = db.cursor()\n",
    "\n",
    "# creating a databse called 'learning'\n",
    "# 'execute()' method is used to compile a 'SQL' statement\n",
    "# below statement is used to create tha 'learning' database\n",
    "cursor.execute(\"CREATE DATABASE learning\")"
   ]
  },
  {
   "cell_type": "code",
   "execution_count": 2,
   "metadata": {},
   "outputs": [
    {
     "name": "stdout",
     "output_type": "stream",
     "text": [
      "(u'airbnb',)\n",
      "(u'airbnb_host',)\n",
      "(u'airbnb_location',)\n"
     ]
    }
   ],
   "source": [
    "# creating tables\n",
    "\n",
    "db = mysql.connect(\n",
    "    host = \"localhost\",\n",
    "    user = \"root\",\n",
    "    passwd = \"zxcvbnmzxcvbnm\",\n",
    "    database = \"learning\" # this is the database created in the cell above\n",
    ")\n",
    "\n",
    "cursor = db.cursor()\n",
    "\n",
    "cursor.execute(\"CREATE TABLE airbnb_location (id INT,latitude FLOAT,longitude FLOAT)\")\n",
    "cursor.execute(\"CREATE TABLE airbnb_host (id INT,host_id INT ,host_name VARCHAR(255), \\\n",
    "                calculated_host_listings_count INT)\")\n",
    "cursor.execute(\"CREATE TABLE airbnb (id INT,name VARCHAR(255),neighbourhood VARCHAR(255),\\\n",
    "                room_type VARCHAR(255),price INT,number_of_reviews INT,reviews_per_month FLOAT)\")\n",
    "\n",
    "# print all tables in the 'learning' database\n",
    "cursor.execute(\"SHOW TABLES\")\n",
    "for table in cursor:\n",
    "    print(table)"
   ]
  },
  {
   "cell_type": "markdown",
   "metadata": {},
   "source": [
    "# 2. Populating mySQL tables with CSV files saved locally"
   ]
  },
  {
   "cell_type": "code",
   "execution_count": 3,
   "metadata": {},
   "outputs": [],
   "source": [
    "import csv\n",
    "\n",
    "# reading the csv files and assigning them to variables\n",
    "\n",
    "with open('airbnb.csv', 'r') as f:\n",
    "    airbnb = list(csv.reader(f, delimiter=','))\n",
    "    \n",
    "with open('airbnb_location.csv', 'r') as f:\n",
    "    airbnb_location = list(csv.reader(f, delimiter=','))\n",
    "    \n",
    "with open('airbnb_host.csv', 'r') as f:\n",
    "    airbnb_host = list(csv.reader(f, delimiter=','))    "
   ]
  },
  {
   "cell_type": "code",
   "execution_count": 4,
   "metadata": {},
   "outputs": [],
   "source": [
    "# inserting data intro mySQL tables\n",
    "\n",
    "db = mysql.connect(\n",
    "    host = \"localhost\",\n",
    "    user = \"root\",\n",
    "    passwd = \"zxcvbnmzxcvbnm\",\n",
    "    database = \"learning\"\n",
    ")\n",
    "\n",
    "cursor = db.cursor()\n",
    "\n",
    "values = [airbnb, airbnb_location, airbnb_host]\n",
    "\n",
    "# creating queries\n",
    "query_airbnb = \"INSERT INTO airbnb (id, name, neighbourhood, room_type, price,\\\n",
    "                number_of_reviews, reviews_per_month) VALUES (%s, %s, %s, %s, %s, %s, %s)\"\n",
    "query_location = \"INSERT INTO airbnb_location (id, latitude, longitude)\\\n",
    "                  VALUES (%s, %s, %s)\"\n",
    "query_host = \"INSERT INTO airbnb_host (id, host_id, host_name, calculated_host_listings_count)\\\n",
    "              VALUES (%s, %s, %s, %s)\"\n",
    "\n",
    "cursor.executemany(query_airbnb, values[0])\n",
    "cursor.executemany(query_location, values[1])\n",
    "cursor.executemany(query_host, values[2])\n",
    "\n",
    "# to make final output we have to run the 'commit()' method of the database object\n",
    "db.commit()"
   ]
  }
 ],
 "metadata": {
  "kernelspec": {
   "display_name": "Python 2",
   "language": "python",
   "name": "python2"
  },
  "language_info": {
   "codemirror_mode": {
    "name": "ipython",
    "version": 2
   },
   "file_extension": ".py",
   "mimetype": "text/x-python",
   "name": "python",
   "nbconvert_exporter": "python",
   "pygments_lexer": "ipython2",
   "version": "2.7.16"
  }
 },
 "nbformat": 4,
 "nbformat_minor": 2
}
